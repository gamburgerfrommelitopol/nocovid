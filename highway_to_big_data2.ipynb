{
 "cells": [
  {
   "cell_type": "code",
   "execution_count": 19,
   "id": "2138780d",
   "metadata": {},
   "outputs": [],
   "source": [
    "# импорт бибилиотек\n",
    "import numpy as np\n",
    "import pandas as pd\n",
    "import seaborn as sns\n",
    "import matplotlib.pyplot as plt\n",
    "from sklearn.model_selection import train_test_split\n",
    "from sklearn.metrics import classification_report\n",
    "from sklearn.metrics import accuracy_score\n",
    "%matplotlib inline"
   ]
  },
  {
   "cell_type": "code",
   "execution_count": 20,
   "id": "f450be16",
   "metadata": {},
   "outputs": [
    {
     "data": {
      "text/html": [
       "<div>\n",
       "<style scoped>\n",
       "    .dataframe tbody tr th:only-of-type {\n",
       "        vertical-align: middle;\n",
       "    }\n",
       "\n",
       "    .dataframe tbody tr th {\n",
       "        vertical-align: top;\n",
       "    }\n",
       "\n",
       "    .dataframe thead th {\n",
       "        text-align: right;\n",
       "    }\n",
       "</style>\n",
       "<table border=\"1\" class=\"dataframe\">\n",
       "  <thead>\n",
       "    <tr style=\"text-align: right;\">\n",
       "      <th></th>\n",
       "      <th>vendor_id</th>\n",
       "      <th>pickup_datetime</th>\n",
       "      <th>passenger_count</th>\n",
       "      <th>pickup_longitude</th>\n",
       "      <th>pickup_latitude</th>\n",
       "      <th>dropoff_longitude</th>\n",
       "      <th>dropoff_latitude</th>\n",
       "      <th>store_and_fwd_flag</th>\n",
       "      <th>maximum temperature</th>\n",
       "      <th>minimum temperature</th>\n",
       "      <th>average temperature</th>\n",
       "      <th>precipitation</th>\n",
       "      <th>snow fall</th>\n",
       "      <th>snow depth</th>\n",
       "      <th>year</th>\n",
       "      <th>month</th>\n",
       "      <th>day</th>\n",
       "      <th>hour</th>\n",
       "      <th>category_travel_time</th>\n",
       "    </tr>\n",
       "  </thead>\n",
       "  <tbody>\n",
       "    <tr>\n",
       "      <th>0</th>\n",
       "      <td>2</td>\n",
       "      <td>2016-03-14 17:24:55</td>\n",
       "      <td>1</td>\n",
       "      <td>-73.982155</td>\n",
       "      <td>40.767937</td>\n",
       "      <td>-73.964630</td>\n",
       "      <td>40.765602</td>\n",
       "      <td>0</td>\n",
       "      <td>10.555556</td>\n",
       "      <td>4.444444</td>\n",
       "      <td>7.5</td>\n",
       "      <td>0.29</td>\n",
       "      <td>0.0</td>\n",
       "      <td>0.0</td>\n",
       "      <td>2016</td>\n",
       "      <td>3</td>\n",
       "      <td>14</td>\n",
       "      <td>17</td>\n",
       "      <td>2.0</td>\n",
       "    </tr>\n",
       "    <tr>\n",
       "      <th>1</th>\n",
       "      <td>1</td>\n",
       "      <td>2016-03-14 14:05:39</td>\n",
       "      <td>1</td>\n",
       "      <td>-73.975090</td>\n",
       "      <td>40.758766</td>\n",
       "      <td>-73.953201</td>\n",
       "      <td>40.765068</td>\n",
       "      <td>0</td>\n",
       "      <td>10.555556</td>\n",
       "      <td>4.444444</td>\n",
       "      <td>7.5</td>\n",
       "      <td>0.29</td>\n",
       "      <td>0.0</td>\n",
       "      <td>0.0</td>\n",
       "      <td>2016</td>\n",
       "      <td>3</td>\n",
       "      <td>14</td>\n",
       "      <td>14</td>\n",
       "      <td>4.0</td>\n",
       "    </tr>\n",
       "    <tr>\n",
       "      <th>2</th>\n",
       "      <td>1</td>\n",
       "      <td>2016-03-14 15:04:38</td>\n",
       "      <td>1</td>\n",
       "      <td>-73.994484</td>\n",
       "      <td>40.745087</td>\n",
       "      <td>-73.998993</td>\n",
       "      <td>40.722710</td>\n",
       "      <td>0</td>\n",
       "      <td>10.555556</td>\n",
       "      <td>4.444444</td>\n",
       "      <td>7.5</td>\n",
       "      <td>0.29</td>\n",
       "      <td>0.0</td>\n",
       "      <td>0.0</td>\n",
       "      <td>2016</td>\n",
       "      <td>3</td>\n",
       "      <td>14</td>\n",
       "      <td>15</td>\n",
       "      <td>3.0</td>\n",
       "    </tr>\n",
       "    <tr>\n",
       "      <th>3</th>\n",
       "      <td>2</td>\n",
       "      <td>2016-03-14 04:24:36</td>\n",
       "      <td>3</td>\n",
       "      <td>-73.944359</td>\n",
       "      <td>40.714489</td>\n",
       "      <td>-73.910530</td>\n",
       "      <td>40.709492</td>\n",
       "      <td>0</td>\n",
       "      <td>10.555556</td>\n",
       "      <td>4.444444</td>\n",
       "      <td>7.5</td>\n",
       "      <td>0.29</td>\n",
       "      <td>0.0</td>\n",
       "      <td>0.0</td>\n",
       "      <td>2016</td>\n",
       "      <td>3</td>\n",
       "      <td>14</td>\n",
       "      <td>4</td>\n",
       "      <td>3.0</td>\n",
       "    </tr>\n",
       "    <tr>\n",
       "      <th>4</th>\n",
       "      <td>2</td>\n",
       "      <td>2016-03-14 14:57:56</td>\n",
       "      <td>1</td>\n",
       "      <td>-73.952881</td>\n",
       "      <td>40.766468</td>\n",
       "      <td>-73.978630</td>\n",
       "      <td>40.761921</td>\n",
       "      <td>0</td>\n",
       "      <td>10.555556</td>\n",
       "      <td>4.444444</td>\n",
       "      <td>7.5</td>\n",
       "      <td>0.29</td>\n",
       "      <td>0.0</td>\n",
       "      <td>0.0</td>\n",
       "      <td>2016</td>\n",
       "      <td>3</td>\n",
       "      <td>14</td>\n",
       "      <td>15</td>\n",
       "      <td>4.0</td>\n",
       "    </tr>\n",
       "  </tbody>\n",
       "</table>\n",
       "</div>"
      ],
      "text/plain": [
       "   vendor_id      pickup_datetime  passenger_count  pickup_longitude  \\\n",
       "0          2  2016-03-14 17:24:55                1        -73.982155   \n",
       "1          1  2016-03-14 14:05:39                1        -73.975090   \n",
       "2          1  2016-03-14 15:04:38                1        -73.994484   \n",
       "3          2  2016-03-14 04:24:36                3        -73.944359   \n",
       "4          2  2016-03-14 14:57:56                1        -73.952881   \n",
       "\n",
       "   pickup_latitude  dropoff_longitude  dropoff_latitude  store_and_fwd_flag  \\\n",
       "0        40.767937         -73.964630         40.765602                   0   \n",
       "1        40.758766         -73.953201         40.765068                   0   \n",
       "2        40.745087         -73.998993         40.722710                   0   \n",
       "3        40.714489         -73.910530         40.709492                   0   \n",
       "4        40.766468         -73.978630         40.761921                   0   \n",
       "\n",
       "   maximum temperature  minimum temperature  average temperature  \\\n",
       "0            10.555556             4.444444                  7.5   \n",
       "1            10.555556             4.444444                  7.5   \n",
       "2            10.555556             4.444444                  7.5   \n",
       "3            10.555556             4.444444                  7.5   \n",
       "4            10.555556             4.444444                  7.5   \n",
       "\n",
       "   precipitation  snow fall  snow depth  year  month  day  hour  \\\n",
       "0           0.29        0.0         0.0  2016      3   14    17   \n",
       "1           0.29        0.0         0.0  2016      3   14    14   \n",
       "2           0.29        0.0         0.0  2016      3   14    15   \n",
       "3           0.29        0.0         0.0  2016      3   14     4   \n",
       "4           0.29        0.0         0.0  2016      3   14    15   \n",
       "\n",
       "   category_travel_time  \n",
       "0                   2.0  \n",
       "1                   4.0  \n",
       "2                   3.0  \n",
       "3                   3.0  \n",
       "4                   4.0  "
      ]
     },
     "execution_count": 20,
     "metadata": {},
     "output_type": "execute_result"
    }
   ],
   "source": [
    "df = pd.read_csv('C1_result.csv')\n",
    "df.head()"
   ]
  },
  {
   "cell_type": "code",
   "execution_count": 21,
   "id": "74c6d8a2",
   "metadata": {},
   "outputs": [
    {
     "name": "stdout",
     "output_type": "stream",
     "text": [
      "<class 'pandas.core.frame.DataFrame'>\n",
      "RangeIndex: 964658 entries, 0 to 964657\n",
      "Data columns (total 19 columns):\n",
      " #   Column                Non-Null Count   Dtype  \n",
      "---  ------                --------------   -----  \n",
      " 0   vendor_id             964658 non-null  int64  \n",
      " 1   pickup_datetime       964658 non-null  object \n",
      " 2   passenger_count       964658 non-null  int64  \n",
      " 3   pickup_longitude      964658 non-null  float64\n",
      " 4   pickup_latitude       964658 non-null  float64\n",
      " 5   dropoff_longitude     964658 non-null  float64\n",
      " 6   dropoff_latitude      964658 non-null  float64\n",
      " 7   store_and_fwd_flag    964658 non-null  int64  \n",
      " 8   maximum temperature   964658 non-null  float64\n",
      " 9   minimum temperature   964658 non-null  float64\n",
      " 10  average temperature   964658 non-null  float64\n",
      " 11  precipitation         964658 non-null  float64\n",
      " 12  snow fall             964658 non-null  float64\n",
      " 13  snow depth            964658 non-null  float64\n",
      " 14  year                  964658 non-null  int64  \n",
      " 15  month                 964658 non-null  int64  \n",
      " 16  day                   964658 non-null  int64  \n",
      " 17  hour                  964658 non-null  int64  \n",
      " 18  category_travel_time  964658 non-null  float64\n",
      "dtypes: float64(11), int64(7), object(1)\n",
      "memory usage: 139.8+ MB\n"
     ]
    }
   ],
   "source": [
    "df.info()"
   ]
  },
  {
   "cell_type": "markdown",
   "id": "f8a2ba00",
   "metadata": {},
   "source": [
    "Конвертируем category_travel_time для последующего обучения модели"
   ]
  },
  {
   "cell_type": "code",
   "execution_count": 22,
   "id": "ef88a3b5",
   "metadata": {},
   "outputs": [],
   "source": [
    "df['category_travel_time'] = df['category_travel_time'].astype('category')"
   ]
  },
  {
   "cell_type": "code",
   "execution_count": 23,
   "id": "1e79894d",
   "metadata": {},
   "outputs": [
    {
     "data": {
      "text/plain": [
       "<AxesSubplot:xlabel='passenger_count', ylabel='count'>"
      ]
     },
     "execution_count": 23,
     "metadata": {},
     "output_type": "execute_result"
    },
    {
     "data": {
      "image/png": "[encoded data removed]",
      "text/plain": [
       "<Figure size 432x288 with 1 Axes>"
      ]
     },
     "metadata": {
      "needs_background": "light"
     },
     "output_type": "display_data"
    }
   ],
   "source": [
    "sns.countplot(x='passenger_count', data = df, hue = 'category_travel_time')"
   ]
  },
  {
   "cell_type": "markdown",
   "id": "34a7b6f5",
   "metadata": {},
   "source": [
    "# Разбиение набора данных"
   ]
  },
  {
   "cell_type": "code",
   "execution_count": 24,
   "id": "df769e71",
   "metadata": {},
   "outputs": [],
   "source": [
    "df = df.drop(['pickup_datetime', 'pickup_latitude','pickup_longitude', 'dropoff_longitude','dropoff_latitude'], axis = 1)"
   ]
  },
  {
   "cell_type": "code",
   "execution_count": 25,
   "id": "9893d817",
   "metadata": {},
   "outputs": [],
   "source": [
    "X = df.drop(['category_travel_time'], axis = 1)\n",
    "y = df['category_travel_time']"
   ]
  },
  {
   "cell_type": "markdown",
   "id": "31d57852",
   "metadata": {},
   "source": [
    "# Разделим данные на тестовые и обучающую выборки, в соотношении 80 на 20"
   ]
  },
  {
   "cell_type": "code",
   "execution_count": 26,
   "id": "5cef71ed",
   "metadata": {},
   "outputs": [],
   "source": [
    "X_train, X_test, y_train, y_test = train_test_split(X, y, test_size=0.3, random_state=0)"
   ]
  },
  {
   "cell_type": "code",
   "execution_count": 27,
   "id": "0adc3e39",
   "metadata": {},
   "outputs": [],
   "source": [
    "X_train, X_test, y_train, y_test = train_test_split(X, y, test_size=0.3, random_state=0)"
   ]
  },
  {
   "cell_type": "markdown",
   "id": "23eea605",
   "metadata": {},
   "source": [
    "# Классификация исходных компетенций\n",
    "Были выбраны 3 метода, такие как: Логистическая Регрессия, k Ближайших Соседей и множество деревьев. Эти методы были выбраны, так как они относятся к числу распространенных методов решения задачи классификации."
   ]
  },
  {
   "cell_type": "code",
   "execution_count": 28,
   "id": "15e2d2fd",
   "metadata": {},
   "outputs": [],
   "source": [
    "from sklearn.neighbors import KNeighborsClassifier\n",
    "from sklearn.linear_model import LogisticRegression\n",
    "from sklearn.ensemble import RandomForestClassifier"
   ]
  },
  {
   "cell_type": "code",
   "execution_count": 29,
   "id": "9067969c",
   "metadata": {},
   "outputs": [],
   "source": [
    "lr = LogisticRegression()"
   ]
  },
  {
   "cell_type": "code",
   "execution_count": 30,
   "id": "b66a8430",
   "metadata": {},
   "outputs": [],
   "source": [
    "knn = KNeighborsClassifier(n_neighbors=5)"
   ]
  },
  {
   "cell_type": "code",
   "execution_count": 31,
   "id": "2ee5e3c1",
   "metadata": {},
   "outputs": [],
   "source": [
    "rfc = RandomForestClassifier()"
   ]
  },
  {
   "cell_type": "markdown",
   "id": "23d5c21c",
   "metadata": {},
   "source": [
    "# Обучение моделей\n",
    "Обучим выбранные модели, затем оценим их качество и выберем лучшую."
   ]
  },
  {
   "cell_type": "code",
   "execution_count": 32,
   "id": "5cc3a16f",
   "metadata": {},
   "outputs": [
    {
     "name": "stdout",
     "output_type": "stream",
     "text": [
      "CPU times: total: 38.6 s\n",
      "Wall time: 9.98 s\n"
     ]
    },
    {
     "data": {
      "text/plain": [
       "LogisticRegression()"
      ]
     },
     "execution_count": 32,
     "metadata": {},
     "output_type": "execute_result"
    }
   ],
   "source": [
    "%%time\n",
    "lr.fit(X_train, y_train)"
   ]
  },
  {
   "cell_type": "code",
   "execution_count": 33,
   "id": "3265b4b0",
   "metadata": {},
   "outputs": [
    {
     "name": "stdout",
     "output_type": "stream",
     "text": [
      "CPU times: total: 8.12 s\n",
      "Wall time: 8.36 s\n"
     ]
    },
    {
     "data": {
      "text/plain": [
       "KNeighborsClassifier()"
      ]
     },
     "execution_count": 33,
     "metadata": {},
     "output_type": "execute_result"
    }
   ],
   "source": [
    "%%time\n",
    "knn.fit(X_train, y_train)"
   ]
  },
  {
   "cell_type": "code",
   "execution_count": 34,
   "id": "73ff7a28",
   "metadata": {},
   "outputs": [
    {
     "name": "stdout",
     "output_type": "stream",
     "text": [
      "CPU times: total: 1min 49s\n",
      "Wall time: 1min 51s\n"
     ]
    },
    {
     "data": {
      "text/plain": [
       "RandomForestClassifier()"
      ]
     },
     "execution_count": 34,
     "metadata": {},
     "output_type": "execute_result"
    }
   ],
   "source": [
    "%%time\n",
    "rfc.fit(X_train, y_train)"
   ]
  },
  {
   "cell_type": "code",
   "execution_count": 35,
   "id": "5f03f963",
   "metadata": {},
   "outputs": [],
   "source": [
    "lr_pred = lr.predict(X_test)"
   ]
  },
  {
   "cell_type": "code",
   "execution_count": 36,
   "id": "a0f26b6a",
   "metadata": {},
   "outputs": [],
   "source": [
    "knn_pred = knn.predict(X_test)"
   ]
  },
  {
   "cell_type": "code",
   "execution_count": 37,
   "id": "e0f0d38f",
   "metadata": {},
   "outputs": [],
   "source": [
    "rfc_pred = rfc.predict(X_test)"
   ]
  },
  {
   "cell_type": "markdown",
   "id": "ed3c8b3a",
   "metadata": {},
   "source": [
    "# Оценка качества моделей\n",
    "Для оценки качества модели выберем метрики: аккуратность и отчёт классификации"
   ]
  },
  {
   "cell_type": "markdown",
   "id": "2be445ca",
   "metadata": {},
   "source": [
    "Отчёт о классификации"
   ]
  },
  {
   "cell_type": "code",
   "execution_count": 38,
   "id": "b5c59e30",
   "metadata": {},
   "outputs": [
    {
     "name": "stdout",
     "output_type": "stream",
     "text": [
      "              precision    recall  f1-score   support\n",
      "\n",
      "         1.0       0.27      0.41      0.33     72605\n",
      "         2.0       0.25      0.10      0.15     72092\n",
      "         3.0       0.26      0.14      0.18     72768\n",
      "         4.0       0.27      0.41      0.32     71933\n",
      "\n",
      "    accuracy                           0.27    289398\n",
      "   macro avg       0.26      0.27      0.24    289398\n",
      "weighted avg       0.26      0.27      0.24    289398\n",
      "\n"
     ]
    }
   ],
   "source": [
    "print(classification_report(y_test, lr_pred))"
   ]
  },
  {
   "cell_type": "code",
   "execution_count": 39,
   "id": "c4af5a82",
   "metadata": {},
   "outputs": [
    {
     "name": "stdout",
     "output_type": "stream",
     "text": [
      "              precision    recall  f1-score   support\n",
      "\n",
      "         1.0       0.27      0.37      0.31     72605\n",
      "         2.0       0.25      0.28      0.26     72092\n",
      "         3.0       0.26      0.22      0.24     72768\n",
      "         4.0       0.27      0.19      0.22     71933\n",
      "\n",
      "    accuracy                           0.26    289398\n",
      "   macro avg       0.26      0.26      0.26    289398\n",
      "weighted avg       0.26      0.26      0.26    289398\n",
      "\n"
     ]
    }
   ],
   "source": [
    "print(classification_report(y_test, knn_pred))"
   ]
  },
  {
   "cell_type": "code",
   "execution_count": 40,
   "id": "b4b173d1",
   "metadata": {},
   "outputs": [
    {
     "name": "stdout",
     "output_type": "stream",
     "text": [
      "              precision    recall  f1-score   support\n",
      "\n",
      "         1.0       0.29      0.29      0.29     72605\n",
      "         2.0       0.25      0.23      0.24     72092\n",
      "         3.0       0.25      0.24      0.25     72768\n",
      "         4.0       0.29      0.33      0.30     71933\n",
      "\n",
      "    accuracy                           0.27    289398\n",
      "   macro avg       0.27      0.27      0.27    289398\n",
      "weighted avg       0.27      0.27      0.27    289398\n",
      "\n"
     ]
    }
   ],
   "source": [
    "print(classification_report(y_test, rfc_pred))"
   ]
  },
  {
   "cell_type": "markdown",
   "id": "dbf3cbb1",
   "metadata": {},
   "source": [
    "Две модели показали одниаковую точность, поэтому оценим точность отдельно"
   ]
  },
  {
   "cell_type": "code",
   "execution_count": 41,
   "id": "eb4ef866",
   "metadata": {},
   "outputs": [
    {
     "name": "stdout",
     "output_type": "stream",
     "text": [
      "0.26587951540784666\n"
     ]
    }
   ],
   "source": [
    "print(accuracy_score(lr_pred, y_test))"
   ]
  },
  {
   "cell_type": "code",
   "execution_count": 42,
   "id": "e8a5eb59",
   "metadata": {},
   "outputs": [
    {
     "name": "stdout",
     "output_type": "stream",
     "text": [
      "0.2627281460134486\n"
     ]
    }
   ],
   "source": [
    "print(accuracy_score(knn_pred, y_test))"
   ]
  },
  {
   "cell_type": "code",
   "execution_count": 43,
   "id": "283d14e4",
   "metadata": {},
   "outputs": [
    {
     "name": "stdout",
     "output_type": "stream",
     "text": [
      "0.2720371253429533\n"
     ]
    }
   ],
   "source": [
    "print(accuracy_score(rfc_pred, y_test))"
   ]
  },
  {
   "cell_type": "markdown",
   "id": "8368e1cc",
   "metadata": {},
   "source": [
    "Наилучшее качество показала модель RandomForestClassifier"
   ]
  },
  {
   "cell_type": "code",
   "execution_count": null,
   "id": "7d6c5165",
   "metadata": {},
   "outputs": [],
   "source": []
  }
 ],
 "metadata": {
  "kernelspec": {
   "display_name": "Python 3 (ipykernel)",
   "language": "python",
   "name": "python3"
  },
  "language_info": {
   "codemirror_mode": {
    "name": "ipython",
    "version": 3
   },
   "file_extension": ".py",
   "mimetype": "text/x-python",
   "name": "python",
   "nbconvert_exporter": "python",
   "pygments_lexer": "ipython3",
   "version": "3.9.12"
  }
 },
 "nbformat": 4,
 "nbformat_minor": 5
}
